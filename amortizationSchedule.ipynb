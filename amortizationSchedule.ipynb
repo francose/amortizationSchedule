{
 "cells": [
  {
   "cell_type": "markdown",
   "metadata": {},
   "source": [
    "\n",
    "### CalculateAmortization  ###\n",
    "**_method takes 4 parameters_** \n",
    "1. Interest rate\n",
    "\n",
    "2. Years\n",
    "\n",
    "3. Frequency of the interest that hits in that period of time\n",
    "\n",
    "4. Loan amount\n",
    "\n",
    "***_Example_***\n",
    "\n",
    "```python\n",
    "'''Create an instance of CalctulateAmortization class and pass the parameters as intergers '''\n",
    "calculate = CalctulateAmortization(5, 10, 12, 20000)\n",
    "'''TO run the calculations we need to call execute funtion '''\n",
    "calculate.execute()\n",
    "```\n",
    "\n",
    "### How it works  ###\n",
    "First we need to find the annuity and with given parameters ***_please see (main.py line 27- 32)._***\n",
    "\n",
    "Then we calculate the insterest rate for the first period ***_please see (main.py line 49-54)._***\n",
    "\n",
    "Later we substract interest portion from the annuity amount to find the principal amaount ***_please see (main.py \n",
    "line 49-54)._***\n",
    "\n",
    "Finally we can reduce the pricipal amount from the total loan amout to get balance due amount ***_please see (main.py line 49-54)._***\n",
    "\n",
    "The rest of the logic is recursive process until end of the time period. ***_please see (main.py line 56-63)._***\n",
    "\n",
    "\n",
    "\n",
    "\n",
    "  "
   ]
  },
  {
   "cell_type": "markdown",
   "metadata": {},
   "source": [
    "#### Example \n",
    "\n",
    "Construct an amortization schedule of a loan of $5,000\n",
    "to be repaid over 6 years with a 6-payment annuity-immediate at effective\n",
    "rate of interest of 6% per year."
   ]
  },
  {
   "cell_type": "code",
   "execution_count": 3,
   "metadata": {},
   "outputs": [],
   "source": [
    "import pandas as pd\n",
    "import numpy as np\n",
    "from datetime import date\n",
    "\n",
    "import matplotlib.pyplot as plt\n",
    "import matplotlib\n",
    "\n",
    "\n",
    "from main import CalculateAmortization\n",
    "matplotlib.style.use('ggplot')\n",
    "\n",
    "\n",
    "\n",
    "# By calling our calculateAmortization method we can run our amortization calculation and construct the table\n",
    "\n",
    "rawdata = CalculateAmortization(6, 6, 1, 5000).execute()\n",
    "\n",
    "insterestPortion = rawdata[\"Interest Portion\"][1:6] \n",
    "principalPortion = rawdata[\"Principal Portion\"][1:6]\n",
    "\n"
   ]
  },
  {
   "cell_type": "markdown",
   "metadata": {},
   "source": [
    "### After calculating and constructing the amortization schedule table ###"
   ]
  },
  {
   "cell_type": "code",
   "execution_count": 4,
   "metadata": {},
   "outputs": [
    {
     "data": {
      "text/html": [
       "<div>\n",
       "<style scoped>\n",
       "    .dataframe tbody tr th:only-of-type {\n",
       "        vertical-align: middle;\n",
       "    }\n",
       "\n",
       "    .dataframe tbody tr th {\n",
       "        vertical-align: top;\n",
       "    }\n",
       "\n",
       "    .dataframe thead th {\n",
       "        text-align: right;\n",
       "    }\n",
       "</style>\n",
       "<table border=\"1\" class=\"dataframe\">\n",
       "  <thead>\n",
       "    <tr style=\"text-align: right;\">\n",
       "      <th></th>\n",
       "      <th>Installment Amount</th>\n",
       "      <th>Interest Portion</th>\n",
       "      <th>Principal Portion</th>\n",
       "      <th>Balance Due</th>\n",
       "    </tr>\n",
       "  </thead>\n",
       "  <tbody>\n",
       "    <tr>\n",
       "      <th>0</th>\n",
       "      <td>0.00</td>\n",
       "      <td>0.00</td>\n",
       "      <td>0.00</td>\n",
       "      <td>5000.00</td>\n",
       "    </tr>\n",
       "    <tr>\n",
       "      <th>1</th>\n",
       "      <td>1016.81</td>\n",
       "      <td>300.00</td>\n",
       "      <td>716.81</td>\n",
       "      <td>4283.19</td>\n",
       "    </tr>\n",
       "    <tr>\n",
       "      <th>2</th>\n",
       "      <td>1016.81</td>\n",
       "      <td>256.99</td>\n",
       "      <td>759.82</td>\n",
       "      <td>3523.36</td>\n",
       "    </tr>\n",
       "    <tr>\n",
       "      <th>3</th>\n",
       "      <td>1016.81</td>\n",
       "      <td>211.40</td>\n",
       "      <td>805.41</td>\n",
       "      <td>2717.95</td>\n",
       "    </tr>\n",
       "    <tr>\n",
       "      <th>4</th>\n",
       "      <td>1016.81</td>\n",
       "      <td>163.08</td>\n",
       "      <td>853.74</td>\n",
       "      <td>1864.22</td>\n",
       "    </tr>\n",
       "    <tr>\n",
       "      <th>5</th>\n",
       "      <td>1016.81</td>\n",
       "      <td>111.85</td>\n",
       "      <td>904.96</td>\n",
       "      <td>959.26</td>\n",
       "    </tr>\n",
       "    <tr>\n",
       "      <th>6</th>\n",
       "      <td>1016.81</td>\n",
       "      <td>57.56</td>\n",
       "      <td>959.26</td>\n",
       "      <td>0.00</td>\n",
       "    </tr>\n",
       "  </tbody>\n",
       "</table>\n",
       "</div>"
      ],
      "text/plain": [
       "   Installment Amount  Interest Portion  Principal Portion  Balance Due\n",
       "0                0.00              0.00               0.00      5000.00\n",
       "1             1016.81            300.00             716.81      4283.19\n",
       "2             1016.81            256.99             759.82      3523.36\n",
       "3             1016.81            211.40             805.41      2717.95\n",
       "4             1016.81            163.08             853.74      1864.22\n",
       "5             1016.81            111.85             904.96       959.26\n",
       "6             1016.81             57.56             959.26         0.00"
      ]
     },
     "execution_count": 4,
     "metadata": {},
     "output_type": "execute_result"
    }
   ],
   "source": [
    "# Displaying all the data\n",
    "rawdata"
   ]
  },
  {
   "cell_type": "markdown",
   "metadata": {},
   "source": [
    "### Displaying first 10 months ###"
   ]
  },
  {
   "cell_type": "code",
   "execution_count": 5,
   "metadata": {},
   "outputs": [
    {
     "data": {
      "text/html": [
       "<div>\n",
       "<style scoped>\n",
       "    .dataframe tbody tr th:only-of-type {\n",
       "        vertical-align: middle;\n",
       "    }\n",
       "\n",
       "    .dataframe tbody tr th {\n",
       "        vertical-align: top;\n",
       "    }\n",
       "\n",
       "    .dataframe thead th {\n",
       "        text-align: right;\n",
       "    }\n",
       "</style>\n",
       "<table border=\"1\" class=\"dataframe\">\n",
       "  <thead>\n",
       "    <tr style=\"text-align: right;\">\n",
       "      <th></th>\n",
       "      <th>Installment Amount</th>\n",
       "      <th>Interest Portion</th>\n",
       "      <th>Principal Portion</th>\n",
       "      <th>Balance Due</th>\n",
       "    </tr>\n",
       "  </thead>\n",
       "  <tbody>\n",
       "    <tr>\n",
       "      <th>0</th>\n",
       "      <td>0.00</td>\n",
       "      <td>0.00</td>\n",
       "      <td>0.00</td>\n",
       "      <td>5000.00</td>\n",
       "    </tr>\n",
       "    <tr>\n",
       "      <th>1</th>\n",
       "      <td>1016.81</td>\n",
       "      <td>300.00</td>\n",
       "      <td>716.81</td>\n",
       "      <td>4283.19</td>\n",
       "    </tr>\n",
       "    <tr>\n",
       "      <th>2</th>\n",
       "      <td>1016.81</td>\n",
       "      <td>256.99</td>\n",
       "      <td>759.82</td>\n",
       "      <td>3523.36</td>\n",
       "    </tr>\n",
       "    <tr>\n",
       "      <th>3</th>\n",
       "      <td>1016.81</td>\n",
       "      <td>211.40</td>\n",
       "      <td>805.41</td>\n",
       "      <td>2717.95</td>\n",
       "    </tr>\n",
       "    <tr>\n",
       "      <th>4</th>\n",
       "      <td>1016.81</td>\n",
       "      <td>163.08</td>\n",
       "      <td>853.74</td>\n",
       "      <td>1864.22</td>\n",
       "    </tr>\n",
       "    <tr>\n",
       "      <th>5</th>\n",
       "      <td>1016.81</td>\n",
       "      <td>111.85</td>\n",
       "      <td>904.96</td>\n",
       "      <td>959.26</td>\n",
       "    </tr>\n",
       "    <tr>\n",
       "      <th>6</th>\n",
       "      <td>1016.81</td>\n",
       "      <td>57.56</td>\n",
       "      <td>959.26</td>\n",
       "      <td>0.00</td>\n",
       "    </tr>\n",
       "  </tbody>\n",
       "</table>\n",
       "</div>"
      ],
      "text/plain": [
       "   Installment Amount  Interest Portion  Principal Portion  Balance Due\n",
       "0                0.00              0.00               0.00      5000.00\n",
       "1             1016.81            300.00             716.81      4283.19\n",
       "2             1016.81            256.99             759.82      3523.36\n",
       "3             1016.81            211.40             805.41      2717.95\n",
       "4             1016.81            163.08             853.74      1864.22\n",
       "5             1016.81            111.85             904.96       959.26\n",
       "6             1016.81             57.56             959.26         0.00"
      ]
     },
     "execution_count": 5,
     "metadata": {},
     "output_type": "execute_result"
    }
   ],
   "source": [
    "#show first 10 period\n",
    "rawdata.head(10) "
   ]
  },
  {
   "cell_type": "markdown",
   "metadata": {},
   "source": [
    "### Displaying last 10 months ###"
   ]
  },
  {
   "cell_type": "code",
   "execution_count": 6,
   "metadata": {},
   "outputs": [
    {
     "data": {
      "text/html": [
       "<div>\n",
       "<style scoped>\n",
       "    .dataframe tbody tr th:only-of-type {\n",
       "        vertical-align: middle;\n",
       "    }\n",
       "\n",
       "    .dataframe tbody tr th {\n",
       "        vertical-align: top;\n",
       "    }\n",
       "\n",
       "    .dataframe thead th {\n",
       "        text-align: right;\n",
       "    }\n",
       "</style>\n",
       "<table border=\"1\" class=\"dataframe\">\n",
       "  <thead>\n",
       "    <tr style=\"text-align: right;\">\n",
       "      <th></th>\n",
       "      <th>Installment Amount</th>\n",
       "      <th>Interest Portion</th>\n",
       "      <th>Principal Portion</th>\n",
       "      <th>Balance Due</th>\n",
       "    </tr>\n",
       "  </thead>\n",
       "  <tbody>\n",
       "    <tr>\n",
       "      <th>0</th>\n",
       "      <td>0.00</td>\n",
       "      <td>0.00</td>\n",
       "      <td>0.00</td>\n",
       "      <td>5000.00</td>\n",
       "    </tr>\n",
       "    <tr>\n",
       "      <th>1</th>\n",
       "      <td>1016.81</td>\n",
       "      <td>300.00</td>\n",
       "      <td>716.81</td>\n",
       "      <td>4283.19</td>\n",
       "    </tr>\n",
       "    <tr>\n",
       "      <th>2</th>\n",
       "      <td>1016.81</td>\n",
       "      <td>256.99</td>\n",
       "      <td>759.82</td>\n",
       "      <td>3523.36</td>\n",
       "    </tr>\n",
       "    <tr>\n",
       "      <th>3</th>\n",
       "      <td>1016.81</td>\n",
       "      <td>211.40</td>\n",
       "      <td>805.41</td>\n",
       "      <td>2717.95</td>\n",
       "    </tr>\n",
       "    <tr>\n",
       "      <th>4</th>\n",
       "      <td>1016.81</td>\n",
       "      <td>163.08</td>\n",
       "      <td>853.74</td>\n",
       "      <td>1864.22</td>\n",
       "    </tr>\n",
       "    <tr>\n",
       "      <th>5</th>\n",
       "      <td>1016.81</td>\n",
       "      <td>111.85</td>\n",
       "      <td>904.96</td>\n",
       "      <td>959.26</td>\n",
       "    </tr>\n",
       "    <tr>\n",
       "      <th>6</th>\n",
       "      <td>1016.81</td>\n",
       "      <td>57.56</td>\n",
       "      <td>959.26</td>\n",
       "      <td>0.00</td>\n",
       "    </tr>\n",
       "  </tbody>\n",
       "</table>\n",
       "</div>"
      ],
      "text/plain": [
       "   Installment Amount  Interest Portion  Principal Portion  Balance Due\n",
       "0                0.00              0.00               0.00      5000.00\n",
       "1             1016.81            300.00             716.81      4283.19\n",
       "2             1016.81            256.99             759.82      3523.36\n",
       "3             1016.81            211.40             805.41      2717.95\n",
       "4             1016.81            163.08             853.74      1864.22\n",
       "5             1016.81            111.85             904.96       959.26\n",
       "6             1016.81             57.56             959.26         0.00"
      ]
     },
     "execution_count": 6,
     "metadata": {},
     "output_type": "execute_result"
    }
   ],
   "source": [
    "#show last 10 period\n",
    "rawdata.tail(10) "
   ]
  },
  {
   "cell_type": "markdown",
   "metadata": {},
   "source": [
    "### Graphing the interest Portion ###"
   ]
  },
  {
   "cell_type": "code",
   "execution_count": 7,
   "metadata": {},
   "outputs": [
    {
     "data": {
      "image/png": "[encoded data removed]",
      "text/plain": [
       "<Figure size 1440x432 with 1 Axes>"
      ]
     },
     "metadata": {},
     "output_type": "display_data"
    }
   ],
   "source": [
    "plt.subplots(sharex=True, figsize=(20,6))\n",
    "plt.plot( insterestPortion,  color=\"blue\", label=\"Insterest Amount\")\n",
    "plt.ylabel(\"Interest Amount in $\", fontdict=None, labelpad=None)\n",
    "plt.xlabel(\"Period in months\", fontdict=None, labelpad=None)\n",
    "plt.legend(loc=\"best\");"
   ]
  },
  {
   "cell_type": "markdown",
   "metadata": {},
   "source": [
    "### Graphing the principal Portion  ###"
   ]
  },
  {
   "cell_type": "code",
   "execution_count": 8,
   "metadata": {},
   "outputs": [
    {
     "data": {
      "image/png": "[encoded data removed]",
      "text/plain": [
       "<Figure size 1440x432 with 1 Axes>"
      ]
     },
     "metadata": {},
     "output_type": "display_data"
    }
   ],
   "source": [
    "\n",
    "plt.subplots(sharex=True, figsize=(20,6))\n",
    "plt.plot( principalPortion ,color=\"red\", label=\"Principal Amount\")\n",
    "plt.ylabel(\"Principal Amount in $\", fontdict=None, labelpad=None)\n",
    "plt.xlabel(\"Period in months\", fontdict=None, labelpad=None)\n",
    "plt.legend(loc=\"best\");\n"
   ]
  },
  {
   "cell_type": "code",
   "execution_count": null,
   "metadata": {},
   "outputs": [],
   "source": []
  }
 ],
 "metadata": {
  "kernelspec": {
   "display_name": "Python 3",
   "language": "python",
   "name": "python3"
  },
  "language_info": {
   "codemirror_mode": {
    "name": "ipython",
    "version": 3
   },
   "file_extension": ".py",
   "mimetype": "text/x-python",
   "name": "python",
   "nbconvert_exporter": "python",
   "pygments_lexer": "ipython3",
   "version": "3.7.4"
  }
 },
 "nbformat": 4,
 "nbformat_minor": 2
}
